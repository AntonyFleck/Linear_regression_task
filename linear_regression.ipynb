{
 "cells": [
  {
   "cell_type": "code",
   "execution_count": 2348,
   "id": "8e4c146e",
   "metadata": {},
   "outputs": [],
   "source": [
    "import numpy as np"
   ]
  },
  {
   "cell_type": "code",
   "execution_count": 2349,
   "id": "e97af04a",
   "metadata": {},
   "outputs": [],
   "source": [
    "import pandas as pd\n",
    "import matplotlib.pyplot as plt"
   ]
  },
  {
   "cell_type": "code",
   "execution_count": 2350,
   "id": "46254a9e",
   "metadata": {
    "scrolled": true
   },
   "outputs": [],
   "source": [
    "dataset = pd.read_csv('linear_regression_dataset.csv')"
   ]
  },
  {
   "cell_type": "code",
   "execution_count": 2351,
   "id": "0e395881",
   "metadata": {},
   "outputs": [
    {
     "data": {
      "text/html": [
       "<div>\n",
       "<style scoped>\n",
       "    .dataframe tbody tr th:only-of-type {\n",
       "        vertical-align: middle;\n",
       "    }\n",
       "\n",
       "    .dataframe tbody tr th {\n",
       "        vertical-align: top;\n",
       "    }\n",
       "\n",
       "    .dataframe thead th {\n",
       "        text-align: right;\n",
       "    }\n",
       "</style>\n",
       "<table border=\"1\" class=\"dataframe\">\n",
       "  <thead>\n",
       "    <tr style=\"text-align: right;\">\n",
       "      <th></th>\n",
       "      <th>AGE</th>\n",
       "      <th>FEMALE</th>\n",
       "      <th>LOS</th>\n",
       "      <th>RACE</th>\n",
       "      <th>TOTCHG</th>\n",
       "      <th>APRDRG</th>\n",
       "    </tr>\n",
       "  </thead>\n",
       "  <tbody>\n",
       "    <tr>\n",
       "      <th>0</th>\n",
       "      <td>17</td>\n",
       "      <td>1</td>\n",
       "      <td>2</td>\n",
       "      <td>1.0</td>\n",
       "      <td>2660</td>\n",
       "      <td>560</td>\n",
       "    </tr>\n",
       "    <tr>\n",
       "      <th>1</th>\n",
       "      <td>17</td>\n",
       "      <td>0</td>\n",
       "      <td>2</td>\n",
       "      <td>1.0</td>\n",
       "      <td>1689</td>\n",
       "      <td>753</td>\n",
       "    </tr>\n",
       "    <tr>\n",
       "      <th>2</th>\n",
       "      <td>17</td>\n",
       "      <td>1</td>\n",
       "      <td>7</td>\n",
       "      <td>1.0</td>\n",
       "      <td>20060</td>\n",
       "      <td>930</td>\n",
       "    </tr>\n",
       "    <tr>\n",
       "      <th>3</th>\n",
       "      <td>17</td>\n",
       "      <td>1</td>\n",
       "      <td>1</td>\n",
       "      <td>1.0</td>\n",
       "      <td>736</td>\n",
       "      <td>758</td>\n",
       "    </tr>\n",
       "    <tr>\n",
       "      <th>4</th>\n",
       "      <td>17</td>\n",
       "      <td>1</td>\n",
       "      <td>1</td>\n",
       "      <td>1.0</td>\n",
       "      <td>1194</td>\n",
       "      <td>754</td>\n",
       "    </tr>\n",
       "  </tbody>\n",
       "</table>\n",
       "</div>"
      ],
      "text/plain": [
       "   AGE  FEMALE  LOS  RACE  TOTCHG  APRDRG\n",
       "0   17       1    2   1.0    2660     560\n",
       "1   17       0    2   1.0    1689     753\n",
       "2   17       1    7   1.0   20060     930\n",
       "3   17       1    1   1.0     736     758\n",
       "4   17       1    1   1.0    1194     754"
      ]
     },
     "execution_count": 2351,
     "metadata": {},
     "output_type": "execute_result"
    }
   ],
   "source": [
    "dataset.head()"
   ]
  },
  {
   "cell_type": "code",
   "execution_count": 2352,
   "id": "72cd8783",
   "metadata": {},
   "outputs": [
    {
     "data": {
      "text/plain": [
       "(500, 6)"
      ]
     },
     "execution_count": 2352,
     "metadata": {},
     "output_type": "execute_result"
    }
   ],
   "source": [
    "\n",
    "dataset.shape"
   ]
  },
  {
   "cell_type": "code",
   "execution_count": 2353,
   "id": "f9d29aee",
   "metadata": {},
   "outputs": [],
   "source": [
    "# dataset.info()"
   ]
  },
  {
   "cell_type": "code",
   "execution_count": 2354,
   "id": "981efeac",
   "metadata": {},
   "outputs": [
    {
     "data": {
      "text/plain": [
       "AGE       0\n",
       "FEMALE    0\n",
       "LOS       0\n",
       "RACE      1\n",
       "TOTCHG    0\n",
       "APRDRG    0\n",
       "dtype: int64"
      ]
     },
     "execution_count": 2354,
     "metadata": {},
     "output_type": "execute_result"
    }
   ],
   "source": [
    "dataset.isnull().sum()"
   ]
  },
  {
   "cell_type": "code",
   "execution_count": 2355,
   "id": "d402a331",
   "metadata": {},
   "outputs": [],
   "source": [
    "dataset['RACE']=dataset['RACE'].replace(np.nan,0)"
   ]
  },
  {
   "cell_type": "code",
   "execution_count": 2356,
   "id": "d641cbf5",
   "metadata": {},
   "outputs": [
    {
     "data": {
      "text/plain": [
       "AGE       0\n",
       "FEMALE    0\n",
       "LOS       0\n",
       "RACE      0\n",
       "TOTCHG    0\n",
       "APRDRG    0\n",
       "dtype: int64"
      ]
     },
     "execution_count": 2356,
     "metadata": {},
     "output_type": "execute_result"
    }
   ],
   "source": [
    "dataset.isnull().sum()"
   ]
  },
  {
   "cell_type": "code",
   "execution_count": 2357,
   "id": "662e69a1",
   "metadata": {},
   "outputs": [
    {
     "data": {
      "text/plain": [
       "['AGE', 'FEMALE', 'LOS', 'RACE', 'TOTCHG', 'APRDRG']"
      ]
     },
     "execution_count": 2357,
     "metadata": {},
     "output_type": "execute_result"
    }
   ],
   "source": [
    "titles=list(dataset.columns)\n",
    "titles"
   ]
  },
  {
   "cell_type": "code",
   "execution_count": 2358,
   "id": "88b011a3",
   "metadata": {},
   "outputs": [
    {
     "data": {
      "text/plain": [
       "['AGE', 'FEMALE', 'LOS', 'RACE', 'APRDRG', 'TOTCHG']"
      ]
     },
     "execution_count": 2358,
     "metadata": {},
     "output_type": "execute_result"
    }
   ],
   "source": [
    "titles[4],titles[5]=titles[5],titles[4]\n",
    "titles"
   ]
  },
  {
   "cell_type": "code",
   "execution_count": 2359,
   "id": "0a73cf6f",
   "metadata": {},
   "outputs": [
    {
     "data": {
      "text/html": [
       "<div>\n",
       "<style scoped>\n",
       "    .dataframe tbody tr th:only-of-type {\n",
       "        vertical-align: middle;\n",
       "    }\n",
       "\n",
       "    .dataframe tbody tr th {\n",
       "        vertical-align: top;\n",
       "    }\n",
       "\n",
       "    .dataframe thead th {\n",
       "        text-align: right;\n",
       "    }\n",
       "</style>\n",
       "<table border=\"1\" class=\"dataframe\">\n",
       "  <thead>\n",
       "    <tr style=\"text-align: right;\">\n",
       "      <th></th>\n",
       "      <th>AGE</th>\n",
       "      <th>FEMALE</th>\n",
       "      <th>LOS</th>\n",
       "      <th>RACE</th>\n",
       "      <th>APRDRG</th>\n",
       "      <th>TOTCHG</th>\n",
       "    </tr>\n",
       "  </thead>\n",
       "  <tbody>\n",
       "    <tr>\n",
       "      <th>0</th>\n",
       "      <td>17</td>\n",
       "      <td>1</td>\n",
       "      <td>2</td>\n",
       "      <td>1.0</td>\n",
       "      <td>560</td>\n",
       "      <td>2660</td>\n",
       "    </tr>\n",
       "    <tr>\n",
       "      <th>1</th>\n",
       "      <td>17</td>\n",
       "      <td>0</td>\n",
       "      <td>2</td>\n",
       "      <td>1.0</td>\n",
       "      <td>753</td>\n",
       "      <td>1689</td>\n",
       "    </tr>\n",
       "    <tr>\n",
       "      <th>2</th>\n",
       "      <td>17</td>\n",
       "      <td>1</td>\n",
       "      <td>7</td>\n",
       "      <td>1.0</td>\n",
       "      <td>930</td>\n",
       "      <td>20060</td>\n",
       "    </tr>\n",
       "    <tr>\n",
       "      <th>3</th>\n",
       "      <td>17</td>\n",
       "      <td>1</td>\n",
       "      <td>1</td>\n",
       "      <td>1.0</td>\n",
       "      <td>758</td>\n",
       "      <td>736</td>\n",
       "    </tr>\n",
       "    <tr>\n",
       "      <th>4</th>\n",
       "      <td>17</td>\n",
       "      <td>1</td>\n",
       "      <td>1</td>\n",
       "      <td>1.0</td>\n",
       "      <td>754</td>\n",
       "      <td>1194</td>\n",
       "    </tr>\n",
       "    <tr>\n",
       "      <th>...</th>\n",
       "      <td>...</td>\n",
       "      <td>...</td>\n",
       "      <td>...</td>\n",
       "      <td>...</td>\n",
       "      <td>...</td>\n",
       "      <td>...</td>\n",
       "    </tr>\n",
       "    <tr>\n",
       "      <th>495</th>\n",
       "      <td>0</td>\n",
       "      <td>1</td>\n",
       "      <td>6</td>\n",
       "      <td>1.0</td>\n",
       "      <td>636</td>\n",
       "      <td>5881</td>\n",
       "    </tr>\n",
       "    <tr>\n",
       "      <th>496</th>\n",
       "      <td>0</td>\n",
       "      <td>1</td>\n",
       "      <td>2</td>\n",
       "      <td>1.0</td>\n",
       "      <td>640</td>\n",
       "      <td>1171</td>\n",
       "    </tr>\n",
       "    <tr>\n",
       "      <th>497</th>\n",
       "      <td>0</td>\n",
       "      <td>1</td>\n",
       "      <td>2</td>\n",
       "      <td>1.0</td>\n",
       "      <td>640</td>\n",
       "      <td>1171</td>\n",
       "    </tr>\n",
       "    <tr>\n",
       "      <th>498</th>\n",
       "      <td>0</td>\n",
       "      <td>1</td>\n",
       "      <td>2</td>\n",
       "      <td>1.0</td>\n",
       "      <td>640</td>\n",
       "      <td>1086</td>\n",
       "    </tr>\n",
       "    <tr>\n",
       "      <th>499</th>\n",
       "      <td>0</td>\n",
       "      <td>0</td>\n",
       "      <td>4</td>\n",
       "      <td>1.0</td>\n",
       "      <td>640</td>\n",
       "      <td>4931</td>\n",
       "    </tr>\n",
       "  </tbody>\n",
       "</table>\n",
       "<p>500 rows × 6 columns</p>\n",
       "</div>"
      ],
      "text/plain": [
       "     AGE  FEMALE  LOS  RACE  APRDRG  TOTCHG\n",
       "0     17       1    2   1.0     560    2660\n",
       "1     17       0    2   1.0     753    1689\n",
       "2     17       1    7   1.0     930   20060\n",
       "3     17       1    1   1.0     758     736\n",
       "4     17       1    1   1.0     754    1194\n",
       "..   ...     ...  ...   ...     ...     ...\n",
       "495    0       1    6   1.0     636    5881\n",
       "496    0       1    2   1.0     640    1171\n",
       "497    0       1    2   1.0     640    1171\n",
       "498    0       1    2   1.0     640    1086\n",
       "499    0       0    4   1.0     640    4931\n",
       "\n",
       "[500 rows x 6 columns]"
      ]
     },
     "execution_count": 2359,
     "metadata": {},
     "output_type": "execute_result"
    }
   ],
   "source": [
    "dataset=dataset[titles]\n",
    "dataset"
   ]
  },
  {
   "cell_type": "code",
   "execution_count": 2360,
   "id": "a41f4345",
   "metadata": {},
   "outputs": [],
   "source": [
    "new_dataset=dataset.loc[0:350,:]\n",
    "y_train=dataset.iloc[0:350,5]"
   ]
  },
  {
   "cell_type": "code",
   "execution_count": 2361,
   "id": "db5cccdd",
   "metadata": {},
   "outputs": [
    {
     "name": "stdout",
     "output_type": "stream",
     "text": [
      "(350,)\n"
     ]
    },
    {
     "data": {
      "text/plain": [
       "0       2660\n",
       "1       1689\n",
       "2      20060\n",
       "3        736\n",
       "4       1194\n",
       "       ...  \n",
       "345     1381\n",
       "346     2877\n",
       "347     2805\n",
       "348     4412\n",
       "349    11125\n",
       "Name: TOTCHG, Length: 350, dtype: int64"
      ]
     },
     "execution_count": 2361,
     "metadata": {},
     "output_type": "execute_result"
    }
   ],
   "source": [
    "print(y_train.shape)\n",
    "y_train"
   ]
  },
  {
   "cell_type": "code",
   "execution_count": 2362,
   "id": "918026f0",
   "metadata": {},
   "outputs": [],
   "source": [
    "y_test=dataset.iloc[350:500,5]"
   ]
  },
  {
   "cell_type": "code",
   "execution_count": 2363,
   "id": "622b3049",
   "metadata": {},
   "outputs": [
    {
     "data": {
      "text/plain": [
       "(150,)"
      ]
     },
     "execution_count": 2363,
     "metadata": {},
     "output_type": "execute_result"
    }
   ],
   "source": [
    "y_test.shape"
   ]
  },
  {
   "cell_type": "code",
   "execution_count": 2364,
   "id": "fc6ead08",
   "metadata": {},
   "outputs": [
    {
     "data": {
      "text/html": [
       "<div>\n",
       "<style scoped>\n",
       "    .dataframe tbody tr th:only-of-type {\n",
       "        vertical-align: middle;\n",
       "    }\n",
       "\n",
       "    .dataframe tbody tr th {\n",
       "        vertical-align: top;\n",
       "    }\n",
       "\n",
       "    .dataframe thead th {\n",
       "        text-align: right;\n",
       "    }\n",
       "</style>\n",
       "<table border=\"1\" class=\"dataframe\">\n",
       "  <thead>\n",
       "    <tr style=\"text-align: right;\">\n",
       "      <th></th>\n",
       "      <th>AGE</th>\n",
       "      <th>FEMALE</th>\n",
       "      <th>LOS</th>\n",
       "      <th>RACE</th>\n",
       "      <th>APRDRG</th>\n",
       "      <th>TOTCHG</th>\n",
       "    </tr>\n",
       "  </thead>\n",
       "  <tbody>\n",
       "    <tr>\n",
       "      <th>0</th>\n",
       "      <td>1.714374</td>\n",
       "      <td>0.975304</td>\n",
       "      <td>-0.246173</td>\n",
       "      <td>-0.147148</td>\n",
       "      <td>-0.316068</td>\n",
       "      <td>-0.029418</td>\n",
       "    </tr>\n",
       "    <tr>\n",
       "      <th>1</th>\n",
       "      <td>1.714374</td>\n",
       "      <td>-1.023270</td>\n",
       "      <td>-0.246173</td>\n",
       "      <td>-0.147148</td>\n",
       "      <td>0.766280</td>\n",
       "      <td>-0.279134</td>\n",
       "    </tr>\n",
       "    <tr>\n",
       "      <th>2</th>\n",
       "      <td>1.714374</td>\n",
       "      <td>0.975304</td>\n",
       "      <td>1.240380</td>\n",
       "      <td>-0.147148</td>\n",
       "      <td>1.758899</td>\n",
       "      <td>4.445422</td>\n",
       "    </tr>\n",
       "    <tr>\n",
       "      <th>3</th>\n",
       "      <td>1.714374</td>\n",
       "      <td>0.975304</td>\n",
       "      <td>-0.543484</td>\n",
       "      <td>-0.147148</td>\n",
       "      <td>0.794320</td>\n",
       "      <td>-0.524222</td>\n",
       "    </tr>\n",
       "    <tr>\n",
       "      <th>4</th>\n",
       "      <td>1.714374</td>\n",
       "      <td>0.975304</td>\n",
       "      <td>-0.543484</td>\n",
       "      <td>-0.147148</td>\n",
       "      <td>0.771888</td>\n",
       "      <td>-0.406436</td>\n",
       "    </tr>\n",
       "    <tr>\n",
       "      <th>...</th>\n",
       "      <td>...</td>\n",
       "      <td>...</td>\n",
       "      <td>...</td>\n",
       "      <td>...</td>\n",
       "      <td>...</td>\n",
       "      <td>...</td>\n",
       "    </tr>\n",
       "    <tr>\n",
       "      <th>495</th>\n",
       "      <td>-0.731854</td>\n",
       "      <td>0.975304</td>\n",
       "      <td>0.943069</td>\n",
       "      <td>-0.147148</td>\n",
       "      <td>0.110142</td>\n",
       "      <td>0.798942</td>\n",
       "    </tr>\n",
       "    <tr>\n",
       "      <th>496</th>\n",
       "      <td>-0.731854</td>\n",
       "      <td>0.975304</td>\n",
       "      <td>-0.246173</td>\n",
       "      <td>-0.147148</td>\n",
       "      <td>0.132574</td>\n",
       "      <td>-0.412351</td>\n",
       "    </tr>\n",
       "    <tr>\n",
       "      <th>497</th>\n",
       "      <td>-0.731854</td>\n",
       "      <td>0.975304</td>\n",
       "      <td>-0.246173</td>\n",
       "      <td>-0.147148</td>\n",
       "      <td>0.132574</td>\n",
       "      <td>-0.412351</td>\n",
       "    </tr>\n",
       "    <tr>\n",
       "      <th>498</th>\n",
       "      <td>-0.731854</td>\n",
       "      <td>0.975304</td>\n",
       "      <td>-0.246173</td>\n",
       "      <td>-0.147148</td>\n",
       "      <td>0.132574</td>\n",
       "      <td>-0.434211</td>\n",
       "    </tr>\n",
       "    <tr>\n",
       "      <th>499</th>\n",
       "      <td>-0.731854</td>\n",
       "      <td>-1.023270</td>\n",
       "      <td>0.348448</td>\n",
       "      <td>-0.147148</td>\n",
       "      <td>0.132574</td>\n",
       "      <td>0.554626</td>\n",
       "    </tr>\n",
       "  </tbody>\n",
       "</table>\n",
       "<p>500 rows × 6 columns</p>\n",
       "</div>"
      ],
      "text/plain": [
       "          AGE    FEMALE       LOS      RACE    APRDRG    TOTCHG\n",
       "0    1.714374  0.975304 -0.246173 -0.147148 -0.316068 -0.029418\n",
       "1    1.714374 -1.023270 -0.246173 -0.147148  0.766280 -0.279134\n",
       "2    1.714374  0.975304  1.240380 -0.147148  1.758899  4.445422\n",
       "3    1.714374  0.975304 -0.543484 -0.147148  0.794320 -0.524222\n",
       "4    1.714374  0.975304 -0.543484 -0.147148  0.771888 -0.406436\n",
       "..        ...       ...       ...       ...       ...       ...\n",
       "495 -0.731854  0.975304  0.943069 -0.147148  0.110142  0.798942\n",
       "496 -0.731854  0.975304 -0.246173 -0.147148  0.132574 -0.412351\n",
       "497 -0.731854  0.975304 -0.246173 -0.147148  0.132574 -0.412351\n",
       "498 -0.731854  0.975304 -0.246173 -0.147148  0.132574 -0.434211\n",
       "499 -0.731854 -1.023270  0.348448 -0.147148  0.132574  0.554626\n",
       "\n",
       "[500 rows x 6 columns]"
      ]
     },
     "execution_count": 2364,
     "metadata": {},
     "output_type": "execute_result"
    }
   ],
   "source": [
    "dataset=(dataset-dataset.mean())/dataset.std()\n",
    "dataset"
   ]
  },
  {
   "cell_type": "code",
   "execution_count": 2365,
   "id": "a0af84a2",
   "metadata": {},
   "outputs": [],
   "source": [
    "x_train=dataset.iloc[0:350,0:5]\n"
   ]
  },
  {
   "cell_type": "code",
   "execution_count": 2366,
   "id": "5fdbf02b",
   "metadata": {},
   "outputs": [
    {
     "data": {
      "text/plain": [
       "(350, 5)"
      ]
     },
     "execution_count": 2366,
     "metadata": {},
     "output_type": "execute_result"
    }
   ],
   "source": [
    "x_train.shape\n"
   ]
  },
  {
   "cell_type": "code",
   "execution_count": 2367,
   "id": "369db7e3",
   "metadata": {},
   "outputs": [
    {
     "data": {
      "text/plain": [
       "(150, 5)"
      ]
     },
     "execution_count": 2367,
     "metadata": {},
     "output_type": "execute_result"
    }
   ],
   "source": [
    "x_test=dataset.iloc[350:500,0:5]\n",
    "x_test.shape"
   ]
  },
  {
   "cell_type": "code",
   "execution_count": 2368,
   "id": "47a6a270",
   "metadata": {},
   "outputs": [
    {
     "name": "stdout",
     "output_type": "stream",
     "text": [
      "[[ 1.71437426  0.97530444 -0.24617312 -0.1471483  -0.31606803]\n",
      " [ 1.71437426 -1.02327023 -0.24617312 -0.1471483   0.7662799 ]\n",
      " [ 1.71437426  0.97530444  1.24037955 -0.1471483   1.75889949]\n",
      " ...\n",
      " [-0.73185391 -1.02327023 -0.54348366 -0.1471483  -2.6826526 ]\n",
      " [-0.73185391 -1.02327023 -0.24617312 -0.1471483  -2.6826526 ]\n",
      " [ 1.42658271  0.97530444  0.64575848 -0.1471483   0.69337563]]\n"
     ]
    },
    {
     "data": {
      "text/plain": [
       "(350, 5)"
      ]
     },
     "execution_count": 2368,
     "metadata": {},
     "output_type": "execute_result"
    }
   ],
   "source": [
    "x=x_train.values\n",
    "print(x)\n",
    "x.shape"
   ]
  },
  {
   "cell_type": "code",
   "execution_count": 2369,
   "id": "2ae993b5",
   "metadata": {},
   "outputs": [
    {
     "name": "stdout",
     "output_type": "stream",
     "text": [
      "[[ 1.          1.71437426  0.97530444 -0.24617312 -0.1471483  -0.31606803]\n",
      " [ 1.          1.71437426 -1.02327023 -0.24617312 -0.1471483   0.7662799 ]\n",
      " [ 1.          1.71437426  0.97530444  1.24037955 -0.1471483   1.75889949]\n",
      " ...\n",
      " [ 1.         -0.73185391 -1.02327023 -0.54348366 -0.1471483  -2.6826526 ]\n",
      " [ 1.         -0.73185391 -1.02327023 -0.24617312 -0.1471483  -2.6826526 ]\n",
      " [ 1.          1.42658271  0.97530444  0.64575848 -0.1471483   0.69337563]]\n",
      "(350, 6)\n"
     ]
    }
   ],
   "source": [
    "ones=np.ones([len(x),1])\n",
    "\n",
    "x=np.concatenate((ones,x,),axis=1)\n",
    "\n",
    "print(x)\n",
    "print(x.shape)"
   ]
  },
  {
   "cell_type": "code",
   "execution_count": 2370,
   "id": "76ea7128",
   "metadata": {},
   "outputs": [
    {
     "data": {
      "text/plain": [
       "array([0., 0., 0., 0., 0., 0.])"
      ]
     },
     "execution_count": 2370,
     "metadata": {},
     "output_type": "execute_result"
    }
   ],
   "source": [
    "epoch =1000\n",
    "alpha = 0.05\n",
    "loss = []\n",
    "theta = np.zeros(6)\n",
    "theta"
   ]
  },
  {
   "cell_type": "code",
   "execution_count": 2371,
   "id": "b6b8309e",
   "metadata": {},
   "outputs": [
    {
     "data": {
      "text/plain": [
       "(350,)"
      ]
     },
     "execution_count": 2371,
     "metadata": {},
     "output_type": "execute_result"
    }
   ],
   "source": [
    "(x@(theta.T)).shape"
   ]
  },
  {
   "cell_type": "code",
   "execution_count": 2372,
   "id": "276c9183",
   "metadata": {
    "scrolled": true
   },
   "outputs": [],
   "source": [
    "\n",
    "for i in range(epoch):\n",
    " \n",
    "    theta = theta - ((alpha/len(x))*(((x.T)@((x @ (theta.T)) - y_train)).T))\n",
    "   \n",
    "  \n",
    "    loss.insert(i,((1/(2*len(x)))*np.sum(np.square((x @ theta.T) - y_train))))"
   ]
  },
  {
   "cell_type": "code",
   "execution_count": 2373,
   "id": "6bee6c7c",
   "metadata": {},
   "outputs": [
    {
     "name": "stdout",
     "output_type": "stream",
     "text": [
      "[ 2771.39729427   972.90373265  -187.07478684  2573.87757327\n",
      "  -148.10055758 -1328.19122993]\n"
     ]
    }
   ],
   "source": [
    "print(theta)"
   ]
  },
  {
   "cell_type": "code",
   "execution_count": 2374,
   "id": "869e35a6",
   "metadata": {},
   "outputs": [
    {
     "name": "stdout",
     "output_type": "stream",
     "text": [
      "2771.3972942696173\n"
     ]
    }
   ],
   "source": [
    "l=np.array(theta[0])\n",
    "print(l)"
   ]
  },
  {
   "cell_type": "code",
   "execution_count": 2375,
   "id": "7ba54d7a",
   "metadata": {},
   "outputs": [
    {
     "data": {
      "image/png": "[encoded data removed]",
      "text/plain": [
       "<Figure size 640x480 with 1 Axes>"
      ]
     },
     "metadata": {},
     "output_type": "display_data"
    },
    {
     "data": {
      "text/plain": [
       "[<matplotlib.lines.Line2D at 0x178422b30>]"
      ]
     },
     "execution_count": 2375,
     "metadata": {},
     "output_type": "execute_result"
    },
    {
     "data": {
      "image/png": "[encoded data removed]",
      "text/plain": [
       "<Figure size 640x480 with 1 Axes>"
      ]
     },
     "metadata": {},
     "output_type": "display_data"
    }
   ],
   "source": [
    "z=[1,17]\n",
    "\n",
    "line = l*z\n",
    "\n",
    "plt.plot(range(epoch),loss)\n",
    "plt.show()\n",
    "\n",
    "plt.scatter(new_dataset.AGE,new_dataset.TOTCHG)\n",
    "plt.plot(z,line)"
   ]
  },
  {
   "cell_type": "code",
   "execution_count": 2376,
   "id": "4d7a6b58",
   "metadata": {},
   "outputs": [
    {
     "data": {
      "text/plain": [
       "array([[ 1.        , -0.73185391,  0.97530444, -0.24617312, -0.1471483 ,\n",
       "        -2.06016235],\n",
       "       [ 1.        , -0.73185391, -1.02327023,  0.64575848, -0.1471483 ,\n",
       "         0.1325736 ],\n",
       "       [ 1.        , -0.73185391, -1.02327023,  0.05113741, -0.1471483 ,\n",
       "         0.1325736 ],\n",
       "       [ 1.        , -0.73185391,  0.97530444, -0.24617312, -0.1471483 ,\n",
       "         0.1325736 ],\n",
       "       [ 1.        , -0.73185391,  0.97530444, -0.24617312, -0.1471483 ,\n",
       "         0.1325736 ],\n",
       "       [ 1.        , -0.73185391,  0.97530444, -0.24617312, -0.1471483 ,\n",
       "         0.1325736 ],\n",
       "       [ 1.        , -0.73185391,  0.97530444, -0.24617312, -0.1471483 ,\n",
       "         0.1325736 ],\n",
       "       [ 1.        , -0.73185391,  0.97530444,  0.05113741, -0.1471483 ,\n",
       "         0.1325736 ],\n",
       "       [ 1.        , -0.58795813, -1.02327023, -0.24617312, -0.1471483 ,\n",
       "        -2.06016235],\n",
       "       [ 1.        ,  1.71437426,  0.97530444, -0.54348366, -0.1471483 ,\n",
       "         0.7662799 ],\n",
       "       [ 1.        , -0.73185391, -1.02327023, -0.54348366, -0.1471483 ,\n",
       "         0.1325736 ],\n",
       "       [ 1.        ,  1.13879116, -1.02327023, -0.24617312, -0.1471483 ,\n",
       "         0.77188792],\n",
       "       [ 1.        , -0.73185391,  0.97530444, -0.24617312, -0.1471483 ,\n",
       "         0.1325736 ],\n",
       "       [ 1.        , -0.73185391, -1.02327023,  0.05113741, -0.1471483 ,\n",
       "         0.1325736 ],\n",
       "       [ 1.        ,  0.99489538,  0.97530444,  0.64575848, -0.1471483 ,\n",
       "        -1.52740042],\n",
       "       [ 1.        ,  1.57047848,  0.97530444, -0.54348366, -0.1471483 ,\n",
       "         0.77188792],\n",
       "       [ 1.        , -0.73185391, -1.02327023,  0.94306902, -0.1471483 ,\n",
       "         0.1325736 ],\n",
       "       [ 1.        , -0.73185391,  0.97530444,  1.24037955, -0.1471483 ,\n",
       "         0.12696558],\n",
       "       [ 1.        , -0.73185391,  0.97530444,  1.24037955, -0.1471483 ,\n",
       "        -0.01323493],\n",
       "       [ 1.        ,  1.57047848,  0.97530444,  0.34844795, -0.1471483 ,\n",
       "         0.77188792],\n",
       "       [ 1.        , -0.73185391, -1.02327023, -0.24617312, -0.1471483 ,\n",
       "         0.1325736 ],\n",
       "       [ 1.        , -0.73185391,  0.97530444, -0.84079419, -0.1471483 ,\n",
       "        -0.1982996 ],\n",
       "       [ 1.        , -0.73185391,  0.97530444,  5.99734812, -0.1471483 ,\n",
       "        -0.01323493],\n",
       "       [ 1.        , -0.73185391, -1.02327023,  0.05113741, -0.1471483 ,\n",
       "         0.1325736 ],\n",
       "       [ 1.        , -0.73185391, -1.02327023,  0.05113741, -0.1471483 ,\n",
       "         0.1325736 ],\n",
       "       [ 1.        , -0.73185391,  0.97530444,  0.05113741, -0.1471483 ,\n",
       "         0.1325736 ],\n",
       "       [ 1.        , -0.73185391, -1.02327023, -0.24617312, -0.1471483 ,\n",
       "         0.1325736 ],\n",
       "       [ 1.        , -0.73185391,  0.97530444, -0.24617312, -0.1471483 ,\n",
       "         0.1325736 ],\n",
       "       [ 1.        ,  1.13879116,  0.97530444, -0.54348366, -0.1471483 ,\n",
       "         0.75506386],\n",
       "       [ 1.        , -0.73185391,  0.97530444, -0.24617312, -0.1471483 ,\n",
       "         0.1325736 ],\n",
       "       [ 1.        , -0.73185391,  0.97530444,  0.05113741, -0.1471483 ,\n",
       "         0.1325736 ],\n",
       "       [ 1.        ,  0.85099961, -1.02327023, -0.24617312, -0.1471483 ,\n",
       "         0.7662799 ],\n",
       "       [ 1.        , -0.73185391, -1.02327023,  0.05113741, -0.1471483 ,\n",
       "         0.1325736 ],\n",
       "       [ 1.        , -0.73185391,  0.97530444, -0.24617312, -0.1471483 ,\n",
       "         0.1325736 ],\n",
       "       [ 1.        , -0.73185391, -1.02327023,  0.34844795, -0.1471483 ,\n",
       "         0.1325736 ],\n",
       "       [ 1.        , -0.73185391, -1.02327023,  0.05113741, -0.1471483 ,\n",
       "         0.1325736 ],\n",
       "       [ 1.        , -0.73185391,  0.97530444, -0.24617312, -0.1471483 ,\n",
       "         0.1325736 ],\n",
       "       [ 1.        , -0.73185391, -1.02327023,  0.05113741, -0.1471483 ,\n",
       "         0.1325736 ],\n",
       "       [ 1.        ,  1.57047848,  0.97530444, -0.54348366, -0.1471483 ,\n",
       "         0.77749594],\n",
       "       [ 1.        , -0.73185391, -1.02327023, -0.24617312, -0.1471483 ,\n",
       "         0.1325736 ],\n",
       "       [ 1.        , -0.73185391, -1.02327023, -0.24617312, -0.1471483 ,\n",
       "         0.1325736 ],\n",
       "       [ 1.        , -0.73185391, -1.02327023, -0.24617312, -0.1471483 ,\n",
       "         0.1325736 ],\n",
       "       [ 1.        , -0.73185391, -1.02327023, -0.24617312, -0.1471483 ,\n",
       "         0.1325736 ],\n",
       "       [ 1.        ,  1.57047848,  0.97530444, -0.54348366, -0.1471483 ,\n",
       "         0.7662799 ],\n",
       "       [ 1.        , -0.73185391, -1.02327023, -0.24617312, -0.1471483 ,\n",
       "         0.1325736 ],\n",
       "       [ 1.        , -0.73185391, -1.02327023, -0.24617312, -0.1471483 ,\n",
       "         0.1325736 ],\n",
       "       [ 1.        , -0.73185391, -1.02327023,  0.64575848, -0.1471483 ,\n",
       "         0.1325736 ],\n",
       "       [ 1.        ,  1.71437426, -1.02327023, -0.24617312, -0.1471483 ,\n",
       "         0.77188792],\n",
       "       [ 1.        ,  0.56320806, -1.02327023, -0.54348366, -0.1471483 ,\n",
       "        -1.72928915],\n",
       "       [ 1.        ,  0.99489538, -1.02327023,  0.05113741, -0.1471483 ,\n",
       "         0.7662799 ],\n",
       "       [ 1.        , -0.73185391, -1.02327023, -0.54348366, -0.1471483 ,\n",
       "         0.1325736 ],\n",
       "       [ 1.        ,  1.57047848,  0.97530444,  0.05113741, -0.1471483 ,\n",
       "         0.79432   ],\n",
       "       [ 1.        , -0.73185391,  0.97530444,  0.34844795,  3.72517548,\n",
       "         0.05406132],\n",
       "       [ 1.        , -0.73185391, -1.02327023, -0.54348366, -0.1471483 ,\n",
       "         0.1325736 ],\n",
       "       [ 1.        , -0.73185391,  0.97530444, -0.24617312, -0.1471483 ,\n",
       "         0.1325736 ],\n",
       "       [ 1.        ,  1.71437426,  0.97530444, -0.54348366, -0.1471483 ,\n",
       "         0.7662799 ],\n",
       "       [ 1.        , -0.73185391, -1.02327023, -0.24617312, -0.1471483 ,\n",
       "         0.1325736 ],\n",
       "       [ 1.        , -0.73185391,  0.97530444,  0.05113741, -0.1471483 ,\n",
       "         0.09331746],\n",
       "       [ 1.        , -0.73185391, -1.02327023, -0.24617312, -0.1471483 ,\n",
       "         0.1325736 ],\n",
       "       [ 1.        , -0.73185391, -1.02327023, -0.24617312, -0.1471483 ,\n",
       "         0.1325736 ],\n",
       "       [ 1.        ,  0.41931229, -1.02327023, -0.24617312,  1.78901359,\n",
       "         0.79432   ],\n",
       "       [ 1.        , -0.73185391, -1.02327023,  0.05113741, -0.1471483 ,\n",
       "         0.1325736 ],\n",
       "       [ 1.        , -0.73185391, -1.02327023, -0.24617312,  9.53366117,\n",
       "         0.1325736 ],\n",
       "       [ 1.        , -0.73185391,  0.97530444, -0.24617312, -0.1471483 ,\n",
       "         0.1325736 ],\n",
       "       [ 1.        , -0.73185391,  0.97530444,  0.05113741, -0.1471483 ,\n",
       "         0.1325736 ],\n",
       "       [ 1.        , -0.73185391,  0.97530444, -0.24617312, -0.1471483 ,\n",
       "         0.1325736 ],\n",
       "       [ 1.        , -0.73185391,  0.97530444,  0.05113741, -0.1471483 ,\n",
       "         0.1325736 ],\n",
       "       [ 1.        , -0.73185391, -1.02327023,  0.05113741, -0.1471483 ,\n",
       "         0.1325736 ],\n",
       "       [ 1.        , -0.73185391, -1.02327023, -0.24617312, -0.1471483 ,\n",
       "         0.1325736 ],\n",
       "       [ 1.        , -0.73185391, -1.02327023,  0.05113741, -0.1471483 ,\n",
       "         0.1325736 ],\n",
       "       [ 1.        ,  1.71437426, -1.02327023,  0.34844795, -0.1471483 ,\n",
       "         0.77188792],\n",
       "       [ 1.        , -0.73185391, -1.02327023, -0.24617312, -0.1471483 ,\n",
       "         0.1325736 ],\n",
       "       [ 1.        , -0.73185391, -1.02327023, -0.24617312, -0.1471483 ,\n",
       "         0.1325736 ],\n",
       "       [ 1.        , -0.73185391,  0.97530444, -0.24617312, -0.1471483 ,\n",
       "         0.1325736 ],\n",
       "       [ 1.        , -0.73185391, -1.02327023,  0.05113741, -0.1471483 ,\n",
       "         0.1325736 ],\n",
       "       [ 1.        , -0.73185391, -1.02327023, -0.24617312, -0.1471483 ,\n",
       "         0.1325736 ],\n",
       "       [ 1.        , -0.73185391, -1.02327023,  0.05113741, -0.1471483 ,\n",
       "         0.1325736 ],\n",
       "       [ 1.        , -0.73185391, -1.02327023, -0.24617312, -0.1471483 ,\n",
       "         0.1325736 ],\n",
       "       [ 1.        ,  1.28268693,  0.97530444,  0.64575848,  5.66133738,\n",
       "         0.7662799 ],\n",
       "       [ 1.        , -0.73185391,  0.97530444,  1.24037955, -0.1471483 ,\n",
       "         0.1325736 ],\n",
       "       [ 1.        , -0.73185391,  0.97530444,  0.05113741, -0.1471483 ,\n",
       "         0.1325736 ],\n",
       "       [ 1.        , -0.73185391,  0.97530444,  0.05113741, -0.1471483 ,\n",
       "         0.1325736 ],\n",
       "       [ 1.        ,  1.28268693, -1.02327023, -0.24617312, -0.1471483 ,\n",
       "        -2.19475483],\n",
       "       [ 1.        , -0.73185391, -1.02327023, -0.54348366, -0.1471483 ,\n",
       "         0.1325736 ],\n",
       "       [ 1.        , -0.73185391,  0.97530444,  0.34844795, -0.1471483 ,\n",
       "         0.1325736 ],\n",
       "       [ 1.        , -0.73185391, -1.02327023, -0.24617312, -0.1471483 ,\n",
       "         0.1325736 ],\n",
       "       [ 1.        , -0.73185391,  0.97530444, -0.24617312, -0.1471483 ,\n",
       "         0.1325736 ],\n",
       "       [ 1.        , -0.73185391,  0.97530444, -0.24617312, -0.1471483 ,\n",
       "         0.1325736 ],\n",
       "       [ 1.        ,  1.28268693, -1.02327023, -0.54348366, -0.1471483 ,\n",
       "         0.77188792],\n",
       "       [ 1.        ,  1.28268693,  0.97530444, -0.24617312, -0.1471483 ,\n",
       "         0.80553604],\n",
       "       [ 1.        ,  1.71437426, -1.02327023,  0.05113741, -0.1471483 ,\n",
       "        -2.31252326],\n",
       "       [ 1.        , -0.73185391,  0.97530444,  0.64575848, -0.1471483 ,\n",
       "         0.1325736 ],\n",
       "       [ 1.        , -0.73185391,  0.97530444,  0.05113741, -0.1471483 ,\n",
       "         0.1325736 ],\n",
       "       [ 1.        , -0.73185391, -1.02327023,  0.05113741, -0.1471483 ,\n",
       "         0.1325736 ],\n",
       "       [ 1.        , -0.73185391,  0.97530444, -0.24617312, -0.1471483 ,\n",
       "         0.1325736 ],\n",
       "       [ 1.        ,  0.70710384,  0.97530444, -0.24617312, -0.1471483 ,\n",
       "         0.7662799 ],\n",
       "       [ 1.        , -0.73185391, -1.02327023, -0.24617312, -0.1471483 ,\n",
       "         0.1325736 ],\n",
       "       [ 1.        ,  1.57047848,  0.97530444, -0.24617312, -0.1471483 ,\n",
       "         0.77188792],\n",
       "       [ 1.        , -0.73185391,  0.97530444, -0.24617312, -0.1471483 ,\n",
       "         0.1325736 ],\n",
       "       [ 1.        , -0.73185391, -1.02327023, -0.24617312, -0.1471483 ,\n",
       "         0.1325736 ],\n",
       "       [ 1.        , -0.73185391,  0.97530444, -0.24617312, -0.1471483 ,\n",
       "         0.1325736 ],\n",
       "       [ 1.        , -0.73185391, -1.02327023, -0.24617312, -0.1471483 ,\n",
       "         0.09892548],\n",
       "       [ 1.        ,  1.28268693,  0.97530444,  0.34844795, -0.1471483 ,\n",
       "        -0.31046001],\n",
       "       [ 1.        , -0.73185391, -1.02327023, -0.24617312, -0.1471483 ,\n",
       "         0.1325736 ],\n",
       "       [ 1.        ,  1.13879116,  0.97530444,  0.34844795, -0.1471483 ,\n",
       "         0.79432   ],\n",
       "       [ 1.        , -0.73185391, -1.02327023,  0.05113741, -0.1471483 ,\n",
       "         0.1325736 ],\n",
       "       [ 1.        , -0.73185391, -1.02327023,  0.34844795, -0.1471483 ,\n",
       "         0.1325736 ],\n",
       "       [ 1.        ,  1.71437426,  0.97530444, -0.24617312, -0.1471483 ,\n",
       "        -0.31606803],\n",
       "       [ 1.        , -0.73185391, -1.02327023, -0.24617312, -0.1471483 ,\n",
       "         0.1325736 ],\n",
       "       [ 1.        , -0.73185391,  0.97530444, -0.24617312, -0.1471483 ,\n",
       "         0.1325736 ],\n",
       "       [ 1.        ,  0.13152074, -1.02327023, -0.24617312, -0.1471483 ,\n",
       "        -2.81163707],\n",
       "       [ 1.        , -0.73185391, -1.02327023, -0.24617312, -0.1471483 ,\n",
       "         0.1325736 ],\n",
       "       [ 1.        , -0.73185391,  0.97530444, -0.24617312, -0.1471483 ,\n",
       "         0.1325736 ],\n",
       "       [ 1.        , -0.73185391,  0.97530444,  6.29465865, -0.1471483 ,\n",
       "         1.38316213],\n",
       "       [ 1.        , -0.73185391,  0.97530444,  0.05113741, -0.1471483 ,\n",
       "         0.1325736 ],\n",
       "       [ 1.        , -0.73185391, -1.02327023,  0.05113741,  5.66133738,\n",
       "         0.1325736 ],\n",
       "       [ 1.        , -0.73185391,  0.97530444,  0.34844795, -0.1471483 ,\n",
       "         0.1325736 ],\n",
       "       [ 1.        , -0.73185391, -1.02327023, -0.24617312, -0.1471483 ,\n",
       "         0.1325736 ],\n",
       "       [ 1.        ,  1.57047848, -1.02327023, -0.54348366, -0.1471483 ,\n",
       "         0.59803929],\n",
       "       [ 1.        , -0.73185391,  0.97530444,  0.05113741, -0.1471483 ,\n",
       "         0.1325736 ],\n",
       "       [ 1.        , -0.73185391,  0.97530444,  0.05113741, -0.1471483 ,\n",
       "         0.1325736 ],\n",
       "       [ 1.        , -0.73185391,  0.97530444, -0.24617312, -0.1471483 ,\n",
       "         0.1325736 ],\n",
       "       [ 1.        , -0.73185391,  0.97530444, -0.24617312, -0.1471483 ,\n",
       "         0.1325736 ],\n",
       "       [ 1.        , -0.73185391, -1.02327023, -0.24617312, -0.1471483 ,\n",
       "         0.1325736 ],\n",
       "       [ 1.        , -0.73185391,  0.97530444,  0.05113741, -0.1471483 ,\n",
       "         0.1325736 ],\n",
       "       [ 1.        ,  0.99489538, -1.02327023, -0.24617312, -0.1471483 ,\n",
       "         0.7662799 ],\n",
       "       [ 1.        , -0.73185391, -1.02327023, -0.24617312, -0.1471483 ,\n",
       "         0.1325736 ],\n",
       "       [ 1.        , -0.73185391, -1.02327023,  1.24037955, -0.1471483 ,\n",
       "         0.11014152],\n",
       "       [ 1.        , -0.73185391, -1.02327023,  0.05113741, -0.1471483 ,\n",
       "         0.09331746],\n",
       "       [ 1.        , -0.73185391, -1.02327023,  0.05113741, -0.1471483 ,\n",
       "         0.1325736 ],\n",
       "       [ 1.        , -0.73185391, -1.02327023, -0.24617312, -0.1471483 ,\n",
       "         0.1325736 ],\n",
       "       [ 1.        , -0.73185391,  0.97530444, -0.24617312, -0.1471483 ,\n",
       "         0.1325736 ],\n",
       "       [ 1.        ,  0.85099961, -1.02327023, -0.54348366, -0.1471483 ,\n",
       "         0.7662799 ],\n",
       "       [ 1.        , -0.73185391, -1.02327023, -0.54348366, -0.1471483 ,\n",
       "         0.1325736 ],\n",
       "       [ 1.        , -0.73185391, -1.02327023,  0.05113741, -0.1471483 ,\n",
       "         0.1325736 ],\n",
       "       [ 1.        , -0.73185391, -1.02327023, -0.24617312, -0.1471483 ,\n",
       "         0.1325736 ],\n",
       "       [ 1.        , -0.73185391, -1.02327023, -0.24617312, -0.1471483 ,\n",
       "         0.1325736 ],\n",
       "       [ 1.        , -0.73185391,  0.97530444, -0.24617312, -0.1471483 ,\n",
       "         0.1325736 ],\n",
       "       [ 1.        , -0.73185391,  0.97530444, -0.24617312, -0.1471483 ,\n",
       "         0.1325736 ],\n",
       "       [ 1.        , -0.73185391, -1.02327023, -0.24617312, -0.1471483 ,\n",
       "         0.1325736 ],\n",
       "       [ 1.        , -0.73185391, -1.02327023, -0.24617312, -0.1471483 ,\n",
       "         0.1325736 ],\n",
       "       [ 1.        , -0.73185391, -1.02327023, -0.24617312, -0.1471483 ,\n",
       "         0.1325736 ],\n",
       "       [ 1.        ,  1.42658271,  0.97530444,  0.34844795,  1.78901359,\n",
       "         0.79432   ],\n",
       "       [ 1.        , -0.73185391, -1.02327023, -0.24617312, -0.1471483 ,\n",
       "         0.1325736 ],\n",
       "       [ 1.        , -0.73185391,  0.97530444,  0.05113741, -0.1471483 ,\n",
       "         0.1325736 ],\n",
       "       [ 1.        , -0.73185391,  0.97530444,  0.94306902, -0.1471483 ,\n",
       "         0.11014152],\n",
       "       [ 1.        , -0.73185391,  0.97530444, -0.24617312, -0.1471483 ,\n",
       "         0.1325736 ],\n",
       "       [ 1.        , -0.73185391,  0.97530444, -0.24617312, -0.1471483 ,\n",
       "         0.1325736 ],\n",
       "       [ 1.        , -0.73185391,  0.97530444, -0.24617312, -0.1471483 ,\n",
       "         0.1325736 ],\n",
       "       [ 1.        , -0.73185391, -1.02327023,  0.34844795, -0.1471483 ,\n",
       "         0.1325736 ]])"
      ]
     },
     "execution_count": 2376,
     "metadata": {},
     "output_type": "execute_result"
    }
   ],
   "source": [
    "ones=np.ones([len(x_test),1])\n",
    "\n",
    "x_test=np.concatenate((ones,x_test),axis=1)\n",
    "x_test.shape\n",
    "\n",
    "x_test"
   ]
  },
  {
   "cell_type": "code",
   "execution_count": 2377,
   "id": "333f5e3c",
   "metadata": {},
   "outputs": [
    {
     "name": "stdout",
     "output_type": "stream",
     "text": [
      "     Actual  Predictated\n",
      "350    1818  4001.381850\n",
      "351    4296  3758.614883\n",
      "352    1887  2228.133046\n",
      "353    1418  1089.009196\n",
      "354    1136  1089.009196\n",
      "..      ...          ...\n",
      "495    5881  4179.766965\n",
      "496    1171  1089.009196\n",
      "497    1171  1089.009196\n",
      "498    1086  1089.009196\n",
      "499    4931  2993.373965\n",
      "\n",
      "[150 rows x 2 columns]\n"
     ]
    }
   ],
   "source": [
    "predicted = x_test@theta\n",
    "\n",
    "comp=pd.DataFrame({'Actual':y_test.T,'Predictated':predicted.T})\n",
    "print(comp)"
   ]
  },
  {
   "cell_type": "code",
   "execution_count": 2378,
   "id": "b1cc2483",
   "metadata": {},
   "outputs": [
    {
     "name": "stdout",
     "output_type": "stream",
     "text": [
      "72.15529072489764\n"
     ]
    }
   ],
   "source": [
    "RSS=np.sum((y_test-predicted)**2)\n",
    "TSS=np.sum((y_test-y_test.mean())**2)\n",
    "\n",
    "accuracy=(1-(RSS/TSS))\n",
    "print(accuracy*100)"
   ]
  },
  {
   "cell_type": "code",
   "execution_count": null,
   "id": "7e7de87f",
   "metadata": {},
   "outputs": [],
   "source": []
  },
  {
   "cell_type": "code",
   "execution_count": null,
   "id": "b961e201",
   "metadata": {},
   "outputs": [],
   "source": []
  }
 ],
 "metadata": {
  "kernelspec": {
   "display_name": "Python 3 (ipykernel)",
   "language": "python",
   "name": "python3"
  },
  "language_info": {
   "codemirror_mode": {
    "name": "ipython",
    "version": 3
   },
   "file_extension": ".py",
   "mimetype": "text/x-python",
   "name": "python",
   "nbconvert_exporter": "python",
   "pygments_lexer": "ipython3",
   "version": "3.9.13"
  }
 },
 "nbformat": 4,
 "nbformat_minor": 5
}
