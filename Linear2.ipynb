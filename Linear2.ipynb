{
 "cells": [
  {
   "cell_type": "code",
   "execution_count": 1,
   "id": "9ddc722f",
   "metadata": {},
   "outputs": [],
   "source": [
    "import numpy as np\n",
    "import pandas as pd"
   ]
  },
  {
   "cell_type": "code",
   "execution_count": null,
   "id": "2f6ac21d",
   "metadata": {},
   "outputs": [],
   "source": []
  },
  {
   "cell_type": "code",
   "execution_count": null,
   "id": "26ef7353",
   "metadata": {},
   "outputs": [],
   "source": [
    "class Linear_Regression():\n",
    "\n",
    "  # initiating the parameters (learning rate & no. of iterations)\n",
    "  def __init__(self, learning_rate, no_of_iterations):\n",
    "\n",
    "    self.learning_rate = learning_rate\n",
    "    self.no_of_iterations = no_of_iterations\n",
    "\n",
    "\n",
    "  def fit(self, X, Y ):\n",
    "\n",
    "    # number of training examples & number of features\n",
    "\n",
    "    self.m, self.n = X.shape  # number of rows & columns\n",
    "\n",
    "    # initiating the weight and bias \n",
    "\n",
    "    self.w = np.zeros(self.n)\n",
    "    self.b = 0\n",
    "    self.X = X\n",
    "    self.Y = Y\n",
    "\n",
    "    # implementing Gradient Descent\n",
    "    \n",
    "    for i in range(self.no_of_iterations):\n",
    "      self.update_weights()\n",
    "\n",
    "\n",
    "  def update_weights(self):\n",
    "\n",
    "    Y_prediction = self.predict(self.X)\n",
    "\n",
    "    # calculate gradients\n",
    "\n",
    "    dw = - (2 * (self.X.T).dot(self.Y - Y_prediction)) / self.m\n",
    "\n",
    "    db = - 2 * np.sum(self.Y - Y_prediction)/self.m\n",
    "\n",
    "    # upadating the weights\n",
    "    \n",
    "    self.w = self.w - self.learning_rate*dw\n",
    "    self.b = selb.b - self.learning_rate*db\n",
    " \n",
    "\n",
    "  def predict(self, X):\n",
    "\n",
    "    return X.dot(self.w) + self.b"
   ]
  },
  {
   "cell_type": "code",
   "execution_count": null,
   "id": "f8e4845f",
   "metadata": {},
   "outputs": [],
   "source": [
    "\n",
    "for i in range(epoch):\n",
    " \n",
    "    theta = theta - ((alpha/len(x))*np.sum(((x.T)@((x @ (theta.T)) - y_train)),axis=1))\n",
    "    print(theta)\n",
    "  \n",
    "    loss.insert(i,((1/(2*len(x)))*np.sum(np.square((x @ theta.T) - y_train))))"
   ]
  }
 ],
 "metadata": {
  "kernelspec": {
   "display_name": "Python 3 (ipykernel)",
   "language": "python",
   "name": "python3"
  },
  "language_info": {
   "codemirror_mode": {
    "name": "ipython",
    "version": 3
   },
   "file_extension": ".py",
   "mimetype": "text/x-python",
   "name": "python",
   "nbconvert_exporter": "python",
   "pygments_lexer": "ipython3",
   "version": "3.10.12"
  }
 },
 "nbformat": 4,
 "nbformat_minor": 5
}
